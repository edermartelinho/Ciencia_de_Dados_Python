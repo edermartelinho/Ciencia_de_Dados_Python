{
  "nbformat": 4,
  "nbformat_minor": 0,
  "metadata": {
    "colab": {
      "provenance": [],
      "authorship_tag": "ABX9TyM88gPprVwB//aRQAtkuBk1",
      "include_colab_link": true
    },
    "kernelspec": {
      "name": "python3",
      "display_name": "Python 3"
    },
    "language_info": {
      "name": "python"
    }
  },
  "cells": [
    {
      "cell_type": "markdown",
      "metadata": {
        "id": "view-in-github",
        "colab_type": "text"
      },
      "source": [
        "<a href=\"https://colab.research.google.com/github/edermartelinho/Ciencia_de_Dados_Python/blob/main/Ciencia_de_Dados_An%C3%A1lise_ANOVAipynb.ipynb\" target=\"_parent\"><img src=\"https://colab.research.google.com/assets/colab-badge.svg\" alt=\"Open In Colab\"/></a>"
      ]
    },
    {
      "cell_type": "markdown",
      "source": [
        "#* Importando as Bibliotecas para as Análises"
      ],
      "metadata": {
        "id": "zYA7a8hA8i2d"
      }
    },
    {
      "cell_type": "code",
      "execution_count": null,
      "metadata": {
        "id": "aVgIiD9c7tNs"
      },
      "outputs": [],
      "source": [
        "!pip install pandas-flavor\n",
        "!pip install pingouin"
      ]
    },
    {
      "cell_type": "code",
      "source": [
        "import math\n",
        "import pandas as pd\n",
        "import pandas_flavor as pf\n",
        "import numpy as np\n",
        "from numpy.testing import suppress_warnings\n",
        "import numpy.linalg\n",
        "import numpy.linalg._umath_linalg\n",
        "#import numpy.linalg._umath_linalg._ilp64\n",
        "import pingouin as pg\n",
        "import sklearn\n",
        "import scipy.stats as sct\n",
        "from scipy.stats import norm\n",
        "#from numpy.testing import suppr\n",
        "from scipy import constants\n",
        "from scipy import stats\n",
        "import matplotlib.pyplot as plt\n",
        "import seaborn as sns\n",
        "import plotly.express as px\n",
        "import tensorflow as tf"
      ],
      "metadata": {
        "id": "EIRikg3J8wrP"
      },
      "execution_count": null,
      "outputs": []
    },
    {
      "cell_type": "markdown",
      "source": [
        "#* Importando o Banco Pelo Drive"
      ],
      "metadata": {
        "id": "RJ0taZF49AXQ"
      }
    },
    {
      "cell_type": "code",
      "source": [
        "from google.colab import drive\n",
        "drive.mount('/content/drive')"
      ],
      "metadata": {
        "id": "ZqO3YiBf9Ftj"
      },
      "execution_count": null,
      "outputs": []
    },
    {
      "cell_type": "markdown",
      "source": [
        "#* Teste Análise de Variância (ANOVA)\n",
        "Utilizada para comparar a variável de interesse com uma ou mais variáveis categóricas\n",
        "\n",
        "Pressupostos:\n",
        "- Variável resposta possui distribuição normal\n",
        "- Homogeneidade das variâncias (variâncias parecidas)\n",
        "- Amostras independentes."
      ],
      "metadata": {
        "id": "uJSRnG0u-AvC"
      }
    },
    {
      "cell_type": "code",
      "source": [
        "diabeteMellitus=pd.read_csv('/content/drive/MyDrive/Ciencia_Dados_git/ DiabetesMellitus.csv')"
      ],
      "metadata": {
        "id": "AuIytj_f9e8Z"
      },
      "execution_count": null,
      "outputs": []
    },
    {
      "cell_type": "code",
      "source": [
        "diabeteMellitus['IMC_OMS_CAT'].value_counts()"
      ],
      "metadata": {
        "id": "ORSSv6Kv91C6"
      },
      "execution_count": null,
      "outputs": []
    },
    {
      "cell_type": "markdown",
      "source": [
        "#* Separando os Grupos"
      ],
      "metadata": {
        "id": "VgXM364H-V3N"
      }
    },
    {
      "cell_type": "code",
      "source": [
        "filtro3  = diabeteMellitus['IMC_OMS_CAT'] == 'Obseso'\n",
        "filtro4  = diabeteMellitus['IMC_OMS_CAT'] == 'Peso normal'\n",
        "filtro5  = diabeteMellitus['IMC_OMS_CAT'] == 'Sobrepeso'\n",
        "obeso = diabeteMellitus[filtro3]\n",
        "normal = diabeteMellitus[filtro4]\n",
        "sobrepeso = diabeteMellitus[filtro5]"
      ],
      "metadata": {
        "id": "_KyWMlQz-asp"
      },
      "execution_count": null,
      "outputs": []
    },
    {
      "cell_type": "markdown",
      "source": [
        "#* Teste de Homocedasticidade"
      ],
      "metadata": {
        "id": "ahmO2rZp-iBV"
      }
    },
    {
      "cell_type": "code",
      "source": [
        "[[normal['Pressao Diaastolica'].mean(),normal['Pressao Diaastolica'].std()] , [sobrepeso['Pressao Diaastolica'].mean(), sobrepeso['Pressao Diaastolica'].std()], [obeso['Pressao Diaastolica'].mean(),obeso['Pressao Diaastolica'].std()]]"
      ],
      "metadata": {
        "id": "EK9e2BPa-l7s"
      },
      "execution_count": null,
      "outputs": []
    },
    {
      "cell_type": "markdown",
      "source": [
        "#* Teste Homogeneidade das Variâncias*\n",
        "##HO: A variação da pressão diastólica das mulheres com diabete melittus é parecida para qualquer tipo de classificação do IMC (Normal, sobrepeso, obeso)\n",
        "\n",
        "H1: Pelo menos uma comparação difere"
      ],
      "metadata": {
        "id": "BnrtFJkh-wFs"
      }
    },
    {
      "cell_type": "code",
      "source": [
        "stats.bartlett(obeso['Pressao Diaastolica'], normal['Pressao Diaastolica'], sobrepeso['Pressao Diaastolica'])"
      ],
      "metadata": {
        "id": "BR1mutlL-5HX"
      },
      "execution_count": null,
      "outputs": []
    },
    {
      "cell_type": "markdown",
      "source": [
        "#* Interpretação:\n",
        "##A variância da pressão diastólica das mulheres com diabette melittus é parecida para a classificação do IMC pelo OMS (p-valor=0,08 > 0,05). É possível também observar através do Boxplot abaixo, que a variabilidade entre os grupos de IMC é parecida apesar de que a variabilidade das mulherss com peso normal ser menor porém não diferente estatisticamente das demais."
      ],
      "metadata": {
        "id": "H1bqQvyy_Hee"
      }
    },
    {
      "cell_type": "code",
      "source": [
        "plt.figure(figsize = (10,5))\n",
        "\n",
        "sns.boxplot(x= 'IMC_OMS_CAT', y = 'Pressao Diaastolica', data = diabeteMellitus, hue='IMC_OMS_CAT', linewidth=4, palette=[\"m\", \"g\", \"r\"])\n",
        "plt.xlabel('Idade')\n",
        "plt.ylabel('Pressão Diastólica')\n",
        "plt.title('Boxplot da Pressão Diastólica das Mulheres com Diabete Mellitus Por IMC')\n",
        "\n",
        "plt.show()"
      ],
      "metadata": {
        "id": "LuFzSNzD_Xmn"
      },
      "execution_count": null,
      "outputs": []
    },
    {
      "cell_type": "code",
      "source": [
        "data=[list(obeso['Pressao Diaastolica']), list(normal['Pressao Diaastolica']), list(sobrepeso['Pressao Diaastolica'])]\n",
        "pg.homoscedasticity(data,method=\"bartlett\")"
      ],
      "metadata": {
        "id": "qqIssJPC_cmF"
      },
      "execution_count": null,
      "outputs": []
    },
    {
      "cell_type": "code",
      "source": [
        "pg.homoscedasticity(data,method=\"levene\")"
      ],
      "metadata": {
        "id": "ew60VBwM_iQE"
      },
      "execution_count": null,
      "outputs": []
    },
    {
      "cell_type": "markdown",
      "source": [
        "#* Teste ANOVA*\n",
        "HO: A pressão diastólica média das mulheres com diabete Mellitus não difere pela Classificação do IMC.\n",
        "\n",
        "H1: Pelo menos uma média difere."
      ],
      "metadata": {
        "id": "daAQvzMz_ozI"
      }
    },
    {
      "cell_type": "code",
      "source": [
        "ANOVA = diabeteMellitus.anova(dv='Pressao Diaastolica', between=['IMC_OMS_CAT'])\n",
        "ANOVA"
      ],
      "metadata": {
        "id": "3QXs2Aw2_wGD"
      },
      "execution_count": null,
      "outputs": []
    },
    {
      "cell_type": "code",
      "source": [
        "g = sns.catplot(data=diabeteMellitus, x=\"IMC_OMS_CAT\", y=\"Pressao Diaastolica\", hue=\"IMC_OMS_CAT\",\n",
        "    capsize=.2, errorbar=\"se\", palette=[\"m\", \"g\", \"r\"], kind=\"point\", height=6, aspect=.55,)\n",
        "g.despine(left=True)#"
      ],
      "metadata": {
        "id": "0Q0H4wuY_3ln"
      },
      "execution_count": null,
      "outputs": []
    },
    {
      "cell_type": "markdown",
      "source": [
        "#*Interpretação: *\n",
        "##Através do teste ANOVA é possível verificar que a pressão média da presão diastólica das mulheres com diabete Mellitus difere por clasificação do IMC (p-valor=0,00015). É possível observar está diferença no gráfico de médias."
      ],
      "metadata": {
        "id": "KyhByacBAAaF"
      }
    },
    {
      "cell_type": "markdown",
      "source": [
        "#* Teste de Comparação Múltipla de Tukey\n",
        "H0: A pressão Diastólica das Mulheres com Diabette Mellitus difere entre mulheres com peso normal e sobrepeso; ou peso normal e obeso; obeso e sobrepeso.\n",
        "\n",
        "H1: As médias diferem (duas a duas)"
      ],
      "metadata": {
        "id": "lSxc6QHdBect"
      }
    },
    {
      "cell_type": "code",
      "source": [
        "diabeteMellitus.pairwise_tests(dv='Pressao Diaastolica', between=['IMC_OMS_CAT'], effsize='none')\n"
      ],
      "metadata": {
        "id": "awQjxg4aAJJU"
      },
      "execution_count": null,
      "outputs": []
    },
    {
      "cell_type": "markdown",
      "source": [
        "#* Interpretando\n",
        "##Realizando o teste de comparação múltipla de Tukey, foi verificado que as mulheres com diabete Mellitus classificadas como obesas possuem a pressão diastólica maior que as mulheres com peso normal (p-valor=0,048) e também com as que possuem sobrepeso (p-valor=0.000010), ao nível de 5% de significância. Porém não houve diferença estatísticamente significante da pressão diastólica entre as mulheres com peso normal e sobrepeso. Esses resultados é possível ser observado no Gráfico de Média.\n",
        "\n"
      ],
      "metadata": {
        "id": "TbPYJAMMBvC5"
      }
    },
    {
      "cell_type": "markdown",
      "source": [
        "#* Teste Anova Comparando Mais de Uma variável Independente"
      ],
      "metadata": {
        "id": "94Y8Z4rVB4C4"
      }
    },
    {
      "cell_type": "code",
      "source": [
        "ANOVA = diabeteMellitus.anova(dv='Pressao Diaastolica', between=['IMC_OMS_CAT','CatIdade'])\n",
        "ANOVA"
      ],
      "metadata": {
        "id": "7bIYpCK3CA4-"
      },
      "execution_count": null,
      "outputs": []
    },
    {
      "cell_type": "markdown",
      "source": [
        "#Perguntas para ser respondida pelo teste:\n",
        "\n",
        "1) A média da pressão diastólica das mulheres com diabete Mellitus difere pela classificação do IMC?\n",
        "\n",
        "2) A média da pressão diastólica das mulheres com diabete Mellitus difere pela idade no periodo reprodutivo?\n",
        "\n",
        "3) A média da pressão diastólica das mulheres com diabete Mellitus difere entre a classificação do IMC juntamente com a idade no período reprodutivo? Ou seja, por exemplo: a pressão diastólica das mulheres obesas difere do período reprodutivo que ela está?\n",
        "\n"
      ],
      "metadata": {
        "id": "Tkc0-GLECrKF"
      }
    },
    {
      "cell_type": "markdown",
      "source": [
        "#* Interpretação:\n",
        "Foi realizado o teste ANOVA para verificar se existia diferença da pressão diastólica entre o IMC e a idade de mulheres. Foi verificado que, existe diferença estatística entre o IMC e a IDADE, poŕem não existe interação entre as variáveis, ao nível de 5% de significância.\n",
        "\n"
      ],
      "metadata": {
        "id": "-YN0xRYFCwtw"
      }
    },
    {
      "cell_type": "markdown",
      "source": [
        "#* Teste de Tukey para verificar a diferença entre a média da pressão diastólica das mulheres com idade menor ou igual à 35 anos e mulheres com idade superior à 35 anos."
      ],
      "metadata": {
        "id": "Yqz0tVsrDCFu"
      }
    },
    {
      "cell_type": "code",
      "source": [
        "diabeteMellitus.pairwise_tests(dv='Pressao Diaastolica', between=('CatIdade'),effsize='none').round(5)"
      ],
      "metadata": {
        "id": "e1qOerwCDGXJ"
      },
      "execution_count": null,
      "outputs": []
    },
    {
      "cell_type": "markdown",
      "source": [
        "#*Gráficos da Pressão Diastólica Por Idade"
      ],
      "metadata": {
        "id": "-TpDcrHPDTRX"
      }
    },
    {
      "cell_type": "code",
      "source": [
        "plt.figure(figsize = (10,5))\n",
        "\n",
        "sns.boxplot(x= 'IMC_OMS_CAT', y = 'Pressao Diaastolica', data = diabeteMellitus, hue='CatIdade', linewidth=4, palette=[\"m\", \"g\", \"r\"])\n",
        "plt.xlabel('Idade')\n",
        "plt.ylabel('Pressão Diastólica')\n",
        "plt.title('Boxplot da Pressão Diastólica de Mulheres Por Idade Reprodutiva')\n",
        "\n",
        "plt.show()"
      ],
      "metadata": {
        "id": "Gb5QkXQfDZjV"
      },
      "execution_count": null,
      "outputs": []
    },
    {
      "cell_type": "code",
      "source": [
        "plt.figure(figsize = (10,5))\n",
        "\n",
        "sns.catplot(data=diabeteMellitus, x=\"IMC_OMS_CAT\", y=\"Pressao Diaastolica\", hue=\"IMC_OMS_CAT\",col=\"CatIdade\",\n",
        "    capsize=.2, palette=[\"m\", \"g\", \"r\"], errorbar=\"ci\", kind=\"point\", height=6, aspect=.55)\n",
        "#g.despine(left=True)\n",
        "\n",
        "plt.xlabel('Idade')\n",
        "plt.ylabel('Pressão Diastólica')\n",
        "#plt.title('Boxplot da Pressão Diastólica de Mulheres Por Idade Reprodutiva')\n",
        "\n",
        "plt.show()"
      ],
      "metadata": {
        "id": "Q3N07U_EDip5"
      },
      "execution_count": null,
      "outputs": []
    },
    {
      "cell_type": "markdown",
      "source": [
        "#* Teste Qui-Quadrado de Independência\n",
        "Utilizado para testar se duas variáveis representadas em uma tabela de contigência são independentes entre si. Ou seja, verificar se as proporções das diversas categorias de uma variável difere nas categorias da outra variável.\n",
        "\n",
        "Ex.: Verificar se a proporção de mulheres com diabete mellitus diferencia entre mulheres com idade reprodutiva ou não reprodutiva."
      ],
      "metadata": {
        "id": "oyxetOHyDoux"
      }
    },
    {
      "cell_type": "markdown",
      "source": [
        "#* Construindo as Tabelas que Serão Testadas"
      ],
      "metadata": {
        "id": "shrOueGoDtkA"
      }
    },
    {
      "cell_type": "code",
      "source": [
        "CroosIdadeAbsoluta=pd.crosstab(diabeteMellitus.CatIdade, diabeteMellitus.GlicoseCat, margins=True,normalize=\"index\").mul(100).round(1)\n",
        "CroosIdadeAbsoluta"
      ],
      "metadata": {
        "id": "bUwocaWtD2HI"
      },
      "execution_count": null,
      "outputs": []
    },
    {
      "cell_type": "markdown",
      "source": [
        "#*Teste Qui-Quadrado Utilizando o Scipy"
      ],
      "metadata": {
        "id": "wJ9XDTzpFjUT"
      }
    },
    {
      "cell_type": "code",
      "source": [
        "from scipy.stats import chi2_contingency"
      ],
      "metadata": {
        "id": "7qGNQnL8Foac"
      },
      "execution_count": null,
      "outputs": []
    },
    {
      "cell_type": "code",
      "source": [
        "expected, observed, stats = pg.chi2_independence(diabeteMellitus, x='CatIdade', y='Diabetes')"
      ],
      "metadata": {
        "id": "RFxwjJIVFu_f"
      },
      "execution_count": null,
      "outputs": []
    },
    {
      "cell_type": "code",
      "source": [
        "stats.round(15)"
      ],
      "metadata": {
        "id": "uy4lEDR-Gi5I"
      },
      "execution_count": null,
      "outputs": []
    },
    {
      "cell_type": "code",
      "source": [
        "Esperado=expected.round(0)\n",
        "Esperado"
      ],
      "metadata": {
        "id": "6mtHHb-7Glxf"
      },
      "execution_count": null,
      "outputs": []
    },
    {
      "cell_type": "markdown",
      "source": [
        "H0: Proporções Parecidas\n",
        "\n",
        "H1: Pelo Menos 1 Difere"
      ],
      "metadata": {
        "id": "CVbUCsnXG1Yi"
      }
    },
    {
      "cell_type": "code",
      "source": [
        "testequiquadrado= stats\n",
        "testequiquadrado"
      ],
      "metadata": {
        "id": "uwjGgvUuG5Ui"
      },
      "execution_count": null,
      "outputs": []
    },
    {
      "cell_type": "markdown",
      "source": [
        "#* Interpretação:\n",
        "Através do teste-quiquadrado de Pearson, foi observado que existe diferença entre as proporções de mulheres entre diabete e idade no período reprodutivo (P-Valor=2.026469e-11). Ou seja, as mulheres com 35 anos ou mais, possuem um porcentagem maior de açucar no sangue (51%) do que as que possuem menos de 35 anos (49%). Já nas mulheres não diabéticas, estas proporções são de 27% e 73%.negrito"
      ],
      "metadata": {
        "id": "qCOKV61THE75"
      }
    },
    {
      "cell_type": "markdown",
      "source": [
        "#* Análise Gráfica da Correlação"
      ],
      "metadata": {
        "id": "HnUL8Ym5HK0M"
      }
    },
    {
      "cell_type": "markdown",
      "source": [
        "##* Teste de Correlação\n",
        "\n",
        "#Pressupostos:\n",
        "\n",
        "Se o teste for o de Pearson, pelo menos uma da variável tem que ter distribuição normal. Já o de spearman, não precisa ter distribuição normal.\n",
        "\n",
        "HO:  ρ=0,  ou seja, não existe uma correlação importante\n",
        "\n",
        "H1:  ρ≠0,  a correlação é importante\n",
        "\n"
      ],
      "metadata": {
        "id": "nJGBdFnZHRKU"
      }
    },
    {
      "cell_type": "markdown",
      "source": [
        "#* Testando a correlação da Espessura da Dobra Cutânea do Triceps com a pressão diastólica"
      ],
      "metadata": {
        "id": "HNmrMF6LH4F4"
      }
    },
    {
      "cell_type": "code",
      "source": [
        "diabeteMellitus"
      ],
      "metadata": {
        "id": "kthr6uQsH8x4"
      },
      "execution_count": null,
      "outputs": []
    },
    {
      "cell_type": "code",
      "source": [
        "diabeteMellitus['IMC'].corr(diabeteMellitus['Pressao Diaastolica'], method='pearson')"
      ],
      "metadata": {
        "id": "HJIYci6SQoJm"
      },
      "execution_count": null,
      "outputs": []
    },
    {
      "cell_type": "code",
      "source": [
        "plt.figure(figsize = [7,5])\n",
        "plt.scatter( 'IMC', 'Pressao Diaastolica', data=diabeteMellitus)\n",
        "plt.title('Scatter Plot da Pressão Diastólica em Mulheres com Diabete Mellitus versus A Espessura da Dobra Cutânes Triceps')\n",
        "plt.ylabel('Pressao Diaastolica')\n",
        "plt.xlabel('IMC')\n",
        "plt.show()"
      ],
      "metadata": {
        "id": "l626tFU_Q9_2"
      },
      "execution_count": null,
      "outputs": []
    },
    {
      "cell_type": "code",
      "source": [
        "ax = sns.lmplot(x=\"IMC\", y=\"Pressao Diaastolica\", data=diabeteMellitus)\n",
        "ax.fig.set_size_inches(5, 5)\n",
        "ax.fig.suptitle('Gráfico Scatter Plot', fontsize=16, y=1.02)\n",
        "ax.set_xlabels(\"IMC\", fontsize=14)\n",
        "ax.set_ylabels(\"Pressão Diastólica\", fontsize=14)\n",
        "ax"
      ],
      "metadata": {
        "id": "wXtpR4rWRTxe"
      },
      "execution_count": null,
      "outputs": []
    },
    {
      "cell_type": "code",
      "source": [
        "pg.corr(diabeteMellitus['Pressao Diaastolica'], diabeteMellitus['IMC'], method='pearson')"
      ],
      "metadata": {
        "id": "5CTDHQaYRi6M"
      },
      "execution_count": null,
      "outputs": []
    },
    {
      "cell_type": "markdown",
      "source": [
        "#* Interpretação:\n",
        "##Através do scatter plot é possível observar que a medida que a espessura da dobra do triceps aumenta, ocorre um leve aumento na pressão diastólica (r=0.25).Através do teste de correlação de Pearson é observado que esta relação é significante ao nível de 5% de significância. Ou seja, a relação existente é significativa e pode ser realizada a regressão linear para criar uma função que descreva essa relação.\n",
        "\n"
      ],
      "metadata": {
        "id": "XDoa9zW2R1vT"
      }
    },
    {
      "cell_type": "markdown",
      "source": [
        "#Regressão Linear Simples\n",
        "A equação da regressão linear simples estimada é dada por:\n",
        "\n",
        "ŷ=βx+ϵ,\n",
        "\n",
        "em que: ŷ é o valor da variável resposta ou característica principal;  β  é o quanto y é influenciaado por cada unidade de x;\n",
        "\n",
        "ϵ  é a influência de outras variáveis que não estão no modelo.\n",
        "\n",
        "Regressão Linear Múltipla\n",
        "ŷ=β1x1+β2x2+β3x3+ϵ,"
      ],
      "metadata": {
        "id": "S1cooajjR845"
      }
    },
    {
      "cell_type": "code",
      "source": [
        "lmCDiastolica = pg.linear_regression(diabeteMellitus['IMC'],diabeteMellitus['Pressao Diaastolica'])\n",
        "lmCDiastolica"
      ],
      "metadata": {
        "id": "wffjIYC0SLB2"
      },
      "execution_count": null,
      "outputs": []
    },
    {
      "cell_type": "code",
      "source": [
        "#Para um IMC de 30, qual seria o valor da pressão diastólica?\n",
        "#y=0.76*x+45.89\n",
        "y=0.76*23+45.89\n",
        "y"
      ],
      "metadata": {
        "id": "977gZXO0SfLd"
      },
      "execution_count": null,
      "outputs": []
    },
    {
      "cell_type": "code",
      "source": [
        "lmCDiastolica = pg.linear_regression(diabeteMellitus[['IMC','Age', 'concentracao de glicose após duas horas', 'N_gravidez']],diabeteMellitus['Pressao Diaastolica'])\n",
        "lmCDiastolica"
      ],
      "metadata": {
        "id": "o-MXXuyrSkxN"
      },
      "execution_count": null,
      "outputs": []
    },
    {
      "cell_type": "code",
      "source": [
        "# Se uma mulher possui 60 anos e um IMC de 32, qual será a pressão diastólica dela?\n",
        "#y=0.79*x1+0.21*x2+0.02*x3+0.41*x4+33.94\n",
        "y=0.79*40+0.21*60+0.02*150-0.41*5+33.94\n",
        "round(y,2)"
      ],
      "metadata": {
        "id": "e1Z1R-NjS0Je"
      },
      "execution_count": null,
      "outputs": []
    },
    {
      "cell_type": "markdown",
      "source": [
        "#* Interpretação:\n",
        "A relação existente entre a pressão diatólica das mulheres com diabete Mellitus e as variáveis idade, IMC, nº de gravidez e concentração de glicose no sangue após duas horas pode ser descrita pela equação:\n",
        "\n",
        "y=0.79x1+0.21∗x2+0.41∗x3+0.02∗x4+33.94\n",
        "\n",
        "Observa-se através da regressão linear múltipla que todos os coeficientes foram signinifantes ao nível de 5% de significância. A cada aumento aumento de uma unidade do IMC, a pressão aumenta 0.79. A cada filho gerado a pressão aumenta 0.41. O intercepto de 33.94, mostra que mais variáveis podem ser acrescentadas no modelo para explicar a pressão diastólica. A variabilidade da pressão diastólica é explicada em  r2=26%,  com outras variáveis no modelo esta variabilidade pode ser mais explciada.\n",
        "\n"
      ],
      "metadata": {
        "id": "7T6edGnNS5Bt"
      }
    },
    {
      "cell_type": "markdown",
      "source": [
        "#* Concentração de Glicose no Sangue"
      ],
      "metadata": {
        "id": "Z-gRAfgOTE-5"
      }
    },
    {
      "cell_type": "code",
      "source": [
        "diabeteMellitus['Pressao Diaastolica'].corr(diabeteMellitus['concentracao de glicose após duas horas'],method='spearman')"
      ],
      "metadata": {
        "id": "sGJGFFP6TBxX"
      },
      "execution_count": null,
      "outputs": []
    },
    {
      "cell_type": "code",
      "source": [
        "pg.corr(diabeteMellitus['Pressao Diaastolica'], diabeteMellitus['concentracao de glicose após duas horas'],method='spearman').round(5)"
      ],
      "metadata": {
        "id": "0t8HJBWEThUS"
      },
      "execution_count": null,
      "outputs": []
    },
    {
      "cell_type": "code",
      "source": [
        "plt.figure(figsize = [12,6])\n",
        "plt.scatter( 'Pressao Diaastolica', 'concentracao de glicose após duas horas', data=diabeteMellitus)\n",
        "plt.title('Scatter Plot da Concentração de Glicose versus Pressao Diastolica')\n",
        "plt.ylabel('Concentracao de Glicose após Duas Horas de Jejum')\n",
        "plt.xlabel('Pressao Diastolica')\n",
        "plt.show()"
      ],
      "metadata": {
        "id": "4b_ffP3yTkYO"
      },
      "execution_count": null,
      "outputs": []
    },
    {
      "cell_type": "markdown",
      "source": [
        "#* Insulina no Sangue Após duas Horas de Jejum"
      ],
      "metadata": {
        "id": "kygJuMFFTrLm"
      }
    },
    {
      "cell_type": "code",
      "source": [
        "diabeteMellitus['Pressao Diaastolica'].corr(diabeteMellitus['Insulina 2 hrs ((mm U/ml)'],method='spearman')"
      ],
      "metadata": {
        "id": "O_iJnUD9TwrG"
      },
      "execution_count": null,
      "outputs": []
    },
    {
      "cell_type": "code",
      "source": [
        "TesteCorrelacao=pg.corr(diabeteMellitus['Pressao Diaastolica'], diabeteMellitus['Insulina 2 hrs ((mm U/ml)'],method='spearman').round(5)\n",
        "TesteCorrelacao"
      ],
      "metadata": {
        "id": "FtIjpY2eT48x"
      },
      "execution_count": null,
      "outputs": []
    },
    {
      "cell_type": "code",
      "source": [
        "lmInsulina = pg.linear_regression( diabeteMellitus['Insulina 2 hrs ((mm U/ml)'],diabeteMellitus['Pressao Diaastolica'])\n",
        "lmInsulina"
      ],
      "metadata": {
        "id": "02mF57JiUDb-"
      },
      "execution_count": null,
      "outputs": []
    },
    {
      "cell_type": "code",
      "source": [
        "plt.figure(figsize = [12,6])\n",
        "plt.scatter( 'Pressao Diaastolica', 'Insulina 2 hrs ((mm U/ml)', data=diabeteMellitus)\n",
        "plt.title('Scatter Plot da Quantidade de Insulina no Sangue Após duas Horas de Jejum Versus Pressão Diastólica')\n",
        "plt.ylabel('Insulina no Sangue Após duas Horas de Jejum')\n",
        "plt.xlabel('Pressao Diastolica')\n",
        "plt.show()"
      ],
      "metadata": {
        "id": "-FYg3cQDUI-w"
      },
      "execution_count": null,
      "outputs": []
    },
    {
      "cell_type": "markdown",
      "source": [
        "#* Número de Gravidez"
      ],
      "metadata": {
        "id": "nRJ7Vwz9UPFp"
      }
    },
    {
      "cell_type": "code",
      "source": [
        "diabeteMellitus['Pressao Diaastolica'].corr(diabeteMellitus['N_gravidez'],method='spearman')"
      ],
      "metadata": {
        "id": "7qWjbe2RUbZD"
      },
      "execution_count": null,
      "outputs": []
    },
    {
      "cell_type": "code",
      "source": [
        "pg.corr(diabeteMellitus['Pressao Diaastolica'], diabeteMellitus['N_gravidez'],method='spearman').round(5)"
      ],
      "metadata": {
        "id": "lU-HzkTNUh5Q"
      },
      "execution_count": null,
      "outputs": []
    },
    {
      "cell_type": "markdown",
      "source": [
        "#* IMC"
      ],
      "metadata": {
        "id": "qwvrIfx8UoJm"
      }
    },
    {
      "cell_type": "code",
      "source": [
        "diabeteMellitus['Pressao Diaastolica'].corr(diabeteMellitus['IMC'],method='spearman')"
      ],
      "metadata": {
        "id": "MgJloIiXUps3"
      },
      "execution_count": null,
      "outputs": []
    },
    {
      "cell_type": "code",
      "source": [
        "pg.corr(diabeteMellitus['Pressao Diaastolica'], diabeteMellitus['IMC'],method='spearman').round(8)"
      ],
      "metadata": {
        "id": "aRr0G8IjU148"
      },
      "execution_count": null,
      "outputs": []
    },
    {
      "cell_type": "code",
      "source": [
        "lmGravidez = pg.linear_regression(diabeteMellitus['N_gravidez'],diabeteMellitus['Pressao Diaastolica'])\n",
        "lmGravidez"
      ],
      "metadata": {
        "id": "0kb9ZRBeU10I"
      },
      "execution_count": null,
      "outputs": []
    }
  ]
}