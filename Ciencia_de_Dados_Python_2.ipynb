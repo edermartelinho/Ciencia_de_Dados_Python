{
  "nbformat": 4,
  "nbformat_minor": 0,
  "metadata": {
    "colab": {
      "provenance": [],
      "authorship_tag": "ABX9TyM3dCm1pHOYy2ITW9I36Li6",
      "include_colab_link": true
    },
    "kernelspec": {
      "name": "python3",
      "display_name": "Python 3"
    },
    "language_info": {
      "name": "python"
    }
  },
  "cells": [
    {
      "cell_type": "markdown",
      "metadata": {
        "id": "view-in-github",
        "colab_type": "text"
      },
      "source": [
        "<a href=\"https://colab.research.google.com/github/edermartelinho/Ciencia_de_Dados_Python/blob/main/Ciencia_de_Dados_Python_2.ipynb\" target=\"_parent\"><img src=\"https://colab.research.google.com/assets/colab-badge.svg\" alt=\"Open In Colab\"/></a>"
      ]
    },
    {
      "cell_type": "markdown",
      "source": [
        "##* Importando as Bibliotecas para Análises"
      ],
      "metadata": {
        "id": "1bnTknxXtub3"
      }
    },
    {
      "cell_type": "code",
      "execution_count": null,
      "metadata": {
        "id": "DXSmqFectOWS"
      },
      "outputs": [],
      "source": [
        "!pip install  pandas-flavor"
      ]
    },
    {
      "cell_type": "code",
      "source": [
        "!pip install pingouin"
      ],
      "metadata": {
        "id": "ahOh6j-huMJ4"
      },
      "execution_count": null,
      "outputs": []
    },
    {
      "cell_type": "code",
      "source": [
        "import math\n",
        "import pandas as pd\n",
        "import pandas_flavor as pf\n",
        "import numpy as np\n",
        "from numpy.testing import suppress_warnings\n",
        "import numpy.linalg\n",
        "import numpy.linalg._umath_linalg\n",
        "#import numpy.linalg._umath_linalg._ilp64\n",
        "import pingouin as pg\n",
        "import sklearn\n",
        "import scipy.stats as sct\n",
        "from scipy.stats import norm\n",
        "#from numpy.testing import suppr\n",
        "from scipy import constants\n",
        "from scipy import stats\n",
        "import matplotlib.pyplot as plt\n",
        "import seaborn as sns\n",
        "import plotly.express as px\n",
        "import tensorflow as tf"
      ],
      "metadata": {
        "id": "1RvSTvq4uic5"
      },
      "execution_count": 3,
      "outputs": []
    },
    {
      "cell_type": "markdown",
      "source": [
        "##* Importando o Banco Pelo Drive"
      ],
      "metadata": {
        "id": "fLC1_SH5ut5d"
      }
    },
    {
      "cell_type": "code",
      "source": [
        "from google.colab import drive\n",
        "drive.mount('/content/drive')"
      ],
      "metadata": {
        "colab": {
          "base_uri": "https://localhost:8080/"
        },
        "id": "JMDonGF2uiaF",
        "outputId": "c3a66c57-7aac-4d66-8f41-2eeae138035f"
      },
      "execution_count": 4,
      "outputs": [
        {
          "output_type": "stream",
          "name": "stdout",
          "text": [
            "Mounted at /content/drive\n"
          ]
        }
      ]
    },
    {
      "cell_type": "code",
      "source": [
        "datasetDiabets=pd.read_csv('/content/drive/MyDrive/Ciencia_Dados_git/ DiabetesCat.csv')\n"
      ],
      "metadata": {
        "id": "QGojDr4PuiYU"
      },
      "execution_count": 5,
      "outputs": []
    },
    {
      "cell_type": "code",
      "source": [
        "variaveisQuantitativas=['N_gravidez','concentracao de glicose após duas horas', 'Pressao Diaastolica','Espessura da dobra cutânea (mm)', 'Insulina 2 hrs ((mm U/ml)','IMC','DiabetesPedigreeFunction', 'Age']"
      ],
      "metadata": {
        "id": "DK9e6gSMuiV1"
      },
      "execution_count": 6,
      "outputs": []
    },
    {
      "cell_type": "markdown",
      "source": [
        "## * Percentis (data.quantile(.25,.50,.75))"
      ],
      "metadata": {
        "id": "1Qj8MPYhvxH-"
      }
    },
    {
      "cell_type": "code",
      "source": [
        "datasetDiabets[variaveisQuantitativas].quantile([.25,.50,.75])"
      ],
      "metadata": {
        "id": "CPMZElwNvwsG"
      },
      "execution_count": null,
      "outputs": []
    },
    {
      "cell_type": "code",
      "source": [
        "datasetDiabets['concentracao de glicose após duas horas'].quantile([.25,.50,.75])"
      ],
      "metadata": {
        "id": "vXlqxCeuuiTY"
      },
      "execution_count": null,
      "outputs": []
    },
    {
      "cell_type": "markdown",
      "source": [
        "##** Interpretação: As mulheres que participaram do projeto possuem uma concentração média de glicose no sangue de 120,89 mm U/ml, variando entre uma mulher e outra de 31.97. 25% das mulheres possuem uma concentração abaixo de 99 mm U/ml e 75% acima, 50% entre 99.00 mm U/ml e 140.25 mm U/ml, e 25% possuem 140.25 mm U/ml ou mais."
      ],
      "metadata": {
        "id": "MDt_JbwawLUy"
      }
    },
    {
      "cell_type": "markdown",
      "source": [
        "## ** Boxplot\n",
        "\n",
        "* Na construção do boxplot é necessário construir o intervalo interquatílico\n",
        "* IQ1=q1-1.5*(q3-q1) - os valores que estão abaixo são considerados outliers\n",
        "* IQ2=q3+1.5*(q3-q1) - os valores que estão acima são considerados outliers"
      ],
      "metadata": {
        "id": "iYCUQ6t-wW6R"
      }
    },
    {
      "cell_type": "code",
      "source": [
        "datasetDiabets['concentracao de glicose após duas horas'].quantile([.25,.50,.75])"
      ],
      "metadata": {
        "id": "1MeJxnRQuiRW"
      },
      "execution_count": null,
      "outputs": []
    },
    {
      "cell_type": "markdown",
      "source": [
        "##* Interpretação\n",
        "A concentração de glicose no sangue das mulheres grávidas do estudo varia de 0 à 199 mm/ml. 25% delas possuem a concentração menor ou igual a 99, 50% entre 99mm/ml e 140.25 mm/ml e 25% mais de 140.25 mm/ml. É possível observar esses resultados através do boxplot abaixo."
      ],
      "metadata": {
        "id": "xz6Oj-VUwoNY"
      }
    },
    {
      "cell_type": "code",
      "source": [
        "sns.boxplot(y = 'concentracao de glicose após duas horas', data = datasetDiabets, color='red')"
      ],
      "metadata": {
        "id": "w9pBFF8ouiOy"
      },
      "execution_count": null,
      "outputs": []
    },
    {
      "cell_type": "code",
      "source": [
        "IQ1=datasetDiabets['concentracao de glicose após duas horas'].quantile(0.25)-1.5*(datasetDiabets['concentracao de glicose após duas horas'].quantile(0.75)-datasetDiabets['concentracao de glicose após duas horas'].quantile(0.25))\n",
        "IQ2=datasetDiabets['concentracao de glicose após duas horas'].quantile(0.75)+1.5*(datasetDiabets['concentracao de glicose após duas horas'].quantile(0.75)-datasetDiabets['concentracao de glicose após duas horas'].quantile(0.25))\n",
        "\n",
        "[IQ1,IQ2]"
      ],
      "metadata": {
        "id": "woOzRVXruiMa"
      },
      "execution_count": null,
      "outputs": []
    },
    {
      "cell_type": "markdown",
      "source": [
        "##* Interpretação: Para identificar se existe valores extremos é calculado o limite inferior e superior que é dado por:\n",
        "LI=Q1-1.5 (Q3-Q1)\n",
        "LS=Q3+1.5 (Q3-Q1)\n",
        "\n",
        "Logo, as mulheres com a concentração abaixo de 37.12 e acima de 202.12 possuem os valores muito baixo ou muito alto com relação as demais. Pelo boxplot é possível observar que existe uma mulher que possui a concentração de glicose no sangue muito baixa.\n",
        "\n",
        "##* Observando o boxplot e o histograma da Concentração de glicose no sangue\n"
      ],
      "metadata": {
        "id": "TlrUtNMqxAAd"
      }
    },
    {
      "cell_type": "code",
      "source": [
        "datasetDiabets['Insulina 2 hrs ((mm U/ml)'].value_counts()"
      ],
      "metadata": {
        "id": "L0fnKpOZxJt7"
      },
      "execution_count": null,
      "outputs": []
    },
    {
      "cell_type": "code",
      "source": [
        "datasetDiabets['Insulina 2 hrs ((mm U/ml)'].value_counts(normalize=True)"
      ],
      "metadata": {
        "id": "fcn9qAk5xKNE"
      },
      "execution_count": null,
      "outputs": []
    },
    {
      "cell_type": "code",
      "source": [
        "plt.figure(figsize = (10,6))\n",
        "\n",
        "plt.subplot(1,2,1)\n",
        "plt.hist(data = datasetDiabets, x ='Insulina 2 hrs ((mm U/ml)', color='blue', histtype='bar', rwidth=2, edgecolor='blue', density = True, alpha = .5)\n",
        "#sns.boxplot(y = 'concentracao de glicose após duas horas', data = datasetDiabets, color='red')\n",
        "#plt.title('Figura 5: Histograma da Concentracao de glicose Observada Após Duas Horas de Jejum')\n",
        "#Construção da Curva Normal\n",
        "#sns.kdeplot(datasetDiabets['concentracao de glicose após duas horas'].dropna(), color='black')\n",
        "\n",
        "\n",
        "plt.subplot(1,2,2)\n",
        "sns.boxplot(y = 'Insulina 2 hrs ((mm U/ml)', data = datasetDiabets, color='red')\n",
        "#plt.title('Figura 6: Histograma da Insulina Observada Após Duas Horas de Jejum')\n",
        "#Construção da Curva Normal\n",
        "#sns.kdeplot(datasetDiabets['concentracao de glicose após duas horas'].dropna(), color='black')\n",
        "\n",
        "plt.show()"
      ],
      "metadata": {
        "id": "docxsk5-xKKQ"
      },
      "execution_count": null,
      "outputs": []
    },
    {
      "cell_type": "markdown",
      "source": [
        "##* Interpretação: Observe que existe uma leve assimetria à esqueda da concentração de glicose. Ou seja, as mulheres com baixa concentração influenciam na assimetria dos dados.\n",
        "* Análise Bivariada\n",
        "* Dados Qualitativos"
      ],
      "metadata": {
        "id": "hytnaLY2x8U6"
      }
    },
    {
      "cell_type": "code",
      "source": [
        "CroosDiaIda=pd.crosstab(datasetDiabets.CatIdade, datasetDiabets.GlicoseCat, margins=True)\n",
        "CroosDiaIda"
      ],
      "metadata": {
        "id": "oIZVktNCxKC3"
      },
      "execution_count": null,
      "outputs": []
    },
    {
      "cell_type": "code",
      "source": [
        "CroosDiaIda=pd.crosstab(datasetDiabets.CatIdade, datasetDiabets.GlicoseCat, margins=True,normalize=True)\n",
        "CroosDiaIda"
      ],
      "metadata": {
        "id": "Bd31uCKkyX9Z"
      },
      "execution_count": null,
      "outputs": []
    },
    {
      "cell_type": "code",
      "source": [
        "pd.crosstab(datasetDiabets.CatIdade, datasetDiabets.GlicoseCat, margins=True,normalize=True).mul(100).round(1)"
      ],
      "metadata": {
        "id": "qsbb5hTKylIX"
      },
      "execution_count": null,
      "outputs": []
    },
    {
      "cell_type": "markdown",
      "source": [
        "##* Interpretação: O 'normalize=True' calcula a frequencia relativa baseada no total dos dados, ou seja, cada valor da primeira tabela é dividido por 768. Se multiplicar por .mul(100).round(1) é obtido o valor em percentual."
      ],
      "metadata": {
        "id": "OL_17EJwyqnW"
      }
    },
    {
      "cell_type": "code",
      "source": [
        "pd.crosstab(datasetDiabets.CatIdade, datasetDiabets.GlicoseCat, margins=True, normalize=\"index\").mul(100).round(1)"
      ],
      "metadata": {
        "id": "0p6_1xOaylGr"
      },
      "execution_count": null,
      "outputs": []
    },
    {
      "cell_type": "markdown",
      "source": [
        "##Interpretação: Observe que após utilizar normalize=\"index\" obtemos o percentual com relação a cada categoria da variável CatIdade, ou seja, o total de mulheres não reprodutia é 270 e de reprodutiva 498. Então foi dividido 106/270 e 164/270, da mesma forma foi realizado o cálculo com a categoria reprodutiva. Com isso obtemos que, 39,3% das mulheres não reprodutivas são pré-diabéticas e apenas 18,3% das mulheres reproduticas são. Com isso é possível fazer comparação, porém é necessário realizar o teste qui-quadrado para verificar se existe diferença estatísticamente significante.\n",
        "##* Análise Bivariada para Variáveis Quantitativas"
      ],
      "metadata": {
        "id": "gquABXhFy3Bn"
      }
    },
    {
      "cell_type": "code",
      "source": [
        "datasetDiabets['concentracao de glicose após duas horas'].corr(datasetDiabets['Insulina 2 hrs ((mm U/ml)'])"
      ],
      "metadata": {
        "id": "EorBcJ15ylDF"
      },
      "execution_count": null,
      "outputs": []
    },
    {
      "cell_type": "markdown",
      "source": [
        "##Interpretação: Observa-se que a relação existente entre a concentração de glicose no sangue e insulina no sangue das mulheres grávidas do estudo é de 0,33. Para saber o comportamento dessa relação é necessário observar o gráfico scatter plot."
      ],
      "metadata": {
        "id": "Ygp6EWl1zJQE"
      }
    },
    {
      "cell_type": "code",
      "source": [
        "plt.figure(figsize = [12,6])\n",
        "plt.scatter('concentracao de glicose após duas horas', 'Insulina 2 hrs ((mm U/ml)', data=datasetDiabets)\n",
        "plt.title('Scatter Plot da Concentração de Glicose versus Insulina Após 2 Horas')\n",
        "plt.xlabel('Concentracao de Glicose após Duas Horas de Jejum')\n",
        "plt.ylabel('Insulina Após 2 Horas de Jejum ((mm U/ml)')\n",
        "plt.show()"
      ],
      "metadata": {
        "id": "UMd1vheEzMgp"
      },
      "execution_count": null,
      "outputs": []
    },
    {
      "cell_type": "code",
      "source": [
        "ax = sns.lmplot(x=\"concentracao de glicose após duas horas\", y=\"Insulina 2 hrs ((mm U/ml)\", data=datasetDiabets)\n",
        "ax.fig.set_size_inches(5, 5)\n",
        "ax.fig.suptitle('Gráfico Scatter Plot', fontsize=16, y=1.02)\n",
        "ax.set_xlabels(\"Concentracao de Glicose após Duas Horas de Jejum\", fontsize=14)\n",
        "ax.set_ylabels(\"Insulina Após 2 Horas de Jejum ((mm U/ml)\", fontsize=14)\n",
        "ax"
      ],
      "metadata": {
        "id": "e0gfL-ywzNWB"
      },
      "execution_count": null,
      "outputs": []
    },
    {
      "cell_type": "code",
      "source": [
        "plt.figure(figsize = [16,10])\n",
        "\n",
        "plt.subplot(2, 2, 1)\n",
        "plt.scatter('Age','concentracao de glicose após duas horas',  data=datasetDiabets)\n",
        "plt.title('Scatter Plot da Concentração de Glicose versus Idade')\n",
        "plt.xlabel('Idade')\n",
        "plt.ylabel('Concentracao de Glicose após Duas Horas de Jejum')\n",
        "\n",
        "plt.subplot(2, 2, 2)\n",
        "plt.scatter('IMC','concentracao de glicose após duas horas',  data=datasetDiabets)\n",
        "plt.title('Scatter Plot da Concentração de Glicose versus IMC')\n",
        "plt.xlabel('IMC')\n",
        "plt.ylabel('Concentracao de Glicose após Duas Horas de Jejum')\n",
        "\n",
        "plt.subplot(2, 2, 3)\n",
        "plt.scatter('Pressao Diaastolica','concentracao de glicose após duas horas',  data=datasetDiabets)\n",
        "plt.title('Scatter Plot da Concentração de Glicose versus Insulina Após 2 Horas')\n",
        "plt.xlabel('Pressao Diastolica')\n",
        "plt.ylabel('Concentracao de Glicose após Duas Horas de Jejum')\n",
        "\n",
        "plt.subplot(2, 2, 4)\n",
        "plt.scatter('N_gravidez','concentracao de glicose após duas horas',  data=datasetDiabets)\n",
        "plt.title('Scatter Plot da Concentração de Glicose versus Insulina Após 2 Horas')\n",
        "plt.xlabel('Número de gravidez')\n",
        "plt.ylabel('Concentracao de Glicose após Duas Horas de Jejum')\n",
        "\n",
        "plt.tight_layout()\n",
        "plt.show()"
      ],
      "metadata": {
        "id": "fGi-JMn6zNSR"
      },
      "execution_count": null,
      "outputs": []
    },
    {
      "cell_type": "code",
      "source": [
        "datasetDiabets['concentracao de glicose após duas horas'].corr(datasetDiabets['Pressao Diaastolica'])"
      ],
      "metadata": {
        "id": "eoby7RvyzNOk"
      },
      "execution_count": null,
      "outputs": []
    },
    {
      "cell_type": "markdown",
      "source": [
        "## *Interpretação: Através dos gráficos é possível observar que somente o IMC possui uma leve tendência linear. Ou seja, a partir do IMC=20 a concentração de glicose cresce levemente. Para verificar se essa relação existente é estatisticamente significante é necessário realizar o teste de correlação de Pearson.\n",
        "#* Teste de Média\n",
        "#* Suposição\n",
        "- A variável de estudo tem que ter distribuição normal.\n",
        "\n",
        "##* Teste de Normalidade *\n",
        "\n",
        "Ho: A Variável Possui Distribuição Normal\n",
        "H1: A variável Não Possui Distribuição Normal"
      ],
      "metadata": {
        "id": "hi4C1CAUz5hA"
      }
    },
    {
      "cell_type": "code",
      "source": [
        "pg.normality(datasetDiabets, method='normaltest').round(3)"
      ],
      "metadata": {
        "id": "5KMZJ4Z6zNMp"
      },
      "execution_count": null,
      "outputs": []
    },
    {
      "cell_type": "markdown",
      "source": [
        "##* Interpretação: Através do teste é possível verificar que nenhuma variável possui distribuição normal ao nível de 5% de significância (p-valor <0.05).\n",
        "Devido a este fato é necessário transformar as variáveis.\n",
        "Para isso utilizei somente um subgrupo do banco, escolhendo o grupo de mulheres grávidas com diabete mellitus"
      ],
      "metadata": {
        "id": "ymQm4kKN0llq"
      }
    },
    {
      "cell_type": "code",
      "source": [
        "filtro  = datasetDiabets['InsulinaCat'] == 'Diabetes Mellitus'"
      ],
      "metadata": {
        "id": "J8pgEqYh0snj"
      },
      "execution_count": 25,
      "outputs": []
    },
    {
      "cell_type": "markdown",
      "source": [
        "## * Construindo o banco"
      ],
      "metadata": {
        "id": "ZETOgaaI0435"
      }
    },
    {
      "cell_type": "code",
      "source": [
        "diabeteMellitus = datasetDiabets[filtro]"
      ],
      "metadata": {
        "id": "iahGETTD0tW0"
      },
      "execution_count": 26,
      "outputs": []
    },
    {
      "cell_type": "markdown",
      "source": [
        "## * Salvando o banco no drive"
      ],
      "metadata": {
        "id": "fP2ezrvB1I4x"
      }
    },
    {
      "cell_type": "code",
      "source": [
        "diabeteMellitus.to_csv('/content/drive/MyDrive/Ciencia_Dados_git/ DiabetesMellitus.csv')"
      ],
      "metadata": {
        "id": "E0wmecpn0tQj"
      },
      "execution_count": 28,
      "outputs": []
    },
    {
      "cell_type": "markdown",
      "source": [
        "##* Criado o Banco de Dados DiabetsMellitus, realizaremos os testes de normalidade novamente"
      ],
      "metadata": {
        "id": "6RlgIu8bhL8U"
      }
    },
    {
      "cell_type": "code",
      "source": [
        "pg.normality(diabeteMellitus, method='normaltest').round(3)"
      ],
      "metadata": {
        "id": "j8ZIMTaJhJSi"
      },
      "execution_count": null,
      "outputs": []
    },
    {
      "cell_type": "markdown",
      "source": [
        "##* Interpretando os dados, observou-se que o resultado das variaveis pressão diastolica e espessura da dobra cutânea do Bicepes possuem distribuição normal."
      ],
      "metadata": {
        "id": "DD6tTPlSiAd-"
      }
    },
    {
      "cell_type": "code",
      "source": [
        "plt.figure(figsize = (18,10))\n",
        "\n",
        "plt.subplot(2,2,1)\n",
        "plt.hist(data = diabeteMellitus,x ='Pressao Diaastolica', color='blue', histtype='bar', rwidth=2, edgecolor='blue', density = True, alpha = .5)\n",
        "plt.title('Histograma da Pressão Diastólica das Mulheres com Diabete Mellitus')\n",
        "#Construção da Curva Normal\n",
        "sns.kdeplot(diabeteMellitus['Pressao Diaastolica'].dropna(), color='black')\n",
        "\n",
        "\n",
        "plt.subplot(2,2,2)\n",
        "sns.boxplot(y = 'Pressao Diaastolica', data = diabeteMellitus, color='red')\n",
        "plt.title('Boxplot da da Pressão Diastólica das Mulheres com Diabete Mellitus')\n",
        "\n",
        "\n",
        "plt.subplot(2,2,3)\n",
        "plt.hist(data = diabeteMellitus,x ='Espessura da dobra cutânea (mm)', color='blue', histtype='bar', rwidth=2, edgecolor='blue', density = True, alpha = .5)\n",
        "plt.title('Histograma da Espessura da Sobra Cutânea (mm) do Triceps de Mulheres')\n",
        "#Construção da Curva Normal\n",
        "sns.kdeplot(diabeteMellitus['Espessura da dobra cutânea (mm)'].dropna(), color='black')\n",
        "\n",
        "\n",
        "\n",
        "plt.subplot(2,2,4)\n",
        "sns.boxplot(y = 'Espessura da dobra cutânea (mm)', data = diabeteMellitus, color='red')\n",
        "plt.title('Boxplot da Espessura da Sobra Cutânea (mm) do Triceps de Mulheres')\n",
        "\n",
        "plt.show()"
      ],
      "metadata": {
        "id": "ugQGU6damYs2"
      },
      "execution_count": null,
      "outputs": []
    },
    {
      "cell_type": "markdown",
      "source": [
        "##* Gráfico QQ-plot utilizado, também, para verificar a dstribuição normal."
      ],
      "metadata": {
        "id": "KzmLIVY2mnxY"
      }
    },
    {
      "cell_type": "code",
      "source": [
        "plt.figure(figsize = (18,10))\n",
        "\n",
        "plt.subplot(1,2,1)\n",
        "pg.qqplot(diabeteMellitus['Pressao Diaastolica'], dist='norm')\n",
        "plt.title('QQplot da Pressão Diastólica das Mulheres Grávidas com Diabete Mellitus do Estudo')\n",
        "\n",
        "\n",
        "plt.subplot(1,2,2)\n",
        "pg.qqplot(diabeteMellitus['Espessura da dobra cutânea (mm)'], dist='norm')\n",
        "plt.title('QQplott da Espessura da Sobra Cutânea (mm) do Triceps das Mulheres Grávidas com Diabete Mellitus do Estudo')\n",
        "\n",
        "plt.show()"
      ],
      "metadata": {
        "id": "frB-1cT8nPyz"
      },
      "execution_count": null,
      "outputs": []
    },
    {
      "cell_type": "markdown",
      "source": [
        "#* Teste  T de Student\n",
        "\n",
        "* Importando o ttest da Biblioteca Pingouin\n",
        "\n"
      ],
      "metadata": {
        "id": "EejwGL5PncpY"
      }
    },
    {
      "cell_type": "code",
      "source": [
        "from pingouin import ttest"
      ],
      "metadata": {
        "id": "pBQ6giTgoXxE"
      },
      "execution_count": 32,
      "outputs": []
    },
    {
      "cell_type": "code",
      "source": [
        "diabeteMellitus['Pressao Diaastolica'].mean()"
      ],
      "metadata": {
        "id": "hMb14uYQokW0"
      },
      "execution_count": null,
      "outputs": []
    },
    {
      "cell_type": "code",
      "source": [
        "diabeteMellitus['Pressao Diaastolica'].std()"
      ],
      "metadata": {
        "id": "GQRVbsS3opyz"
      },
      "execution_count": null,
      "outputs": []
    },
    {
      "cell_type": "code",
      "source": [
        "diabeteMellitus.shape"
      ],
      "metadata": {
        "id": "rIwOvK--ovVx"
      },
      "execution_count": null,
      "outputs": []
    },
    {
      "cell_type": "markdown",
      "source": [
        "Ho: A Média da Pressão Diastólicas nas Mulheres com Diabetes Mellitus é Significativa (M=0)\n",
        "\n",
        "H1: Não é Significativa (M diferente de 0)\n",
        "\n",
        "ttest(diabeteMellitus['Pressao Diaastolica'], n-1)\n",
        "\n",
        "P-valor <=0.05"
      ],
      "metadata": {
        "id": "RTSYstUZo11b"
      }
    },
    {
      "cell_type": "code",
      "source": [
        "ttest(diabeteMellitus['Pressao Diaastolica'], diabeteMellitus.shape[0]-1)"
      ],
      "metadata": {
        "id": "SZQ2fXP4qmGi"
      },
      "execution_count": null,
      "outputs": []
    },
    {
      "cell_type": "markdown",
      "source": [
        "##*Interpretação: A pressão diastólica das mulheres é significante, ou seja, ela é diferente de zero (p-valor < 0.05). É necessário aprofundar o estudo para identificar o que causa esta diferença."
      ],
      "metadata": {
        "id": "Oj8-DlX9rGxi"
      }
    },
    {
      "cell_type": "markdown",
      "source": [
        "#* Teste-t Para Duas Amostras\n",
        "##* Pressuposto: Normalidade da variável e Homogeneidade das Variâncias dos grupos\n",
        "#* Separando as Amostras Para o Teste"
      ],
      "metadata": {
        "id": "ow76iDQLrsYj"
      }
    },
    {
      "cell_type": "code",
      "source": [
        "filtro1  = diabeteMellitus['CatIdade'] == 'Reprodutiva'\n",
        "filtro2  = diabeteMellitus['CatIdade'] == 'Não-Reprodutiva'\n",
        "reprodutiva = diabeteMellitus[filtro1]\n",
        "Nreprodutiva = diabeteMellitus[filtro2]"
      ],
      "metadata": {
        "id": "cvvFNJGaroKa"
      },
      "execution_count": 37,
      "outputs": []
    },
    {
      "cell_type": "markdown",
      "source": [
        "#* Teste de Homogeneidade\n",
        "#* Testa se as variâncias dos grupos são parecidas\n",
        "HO: A variabilidade da pressão diastólicas das Mulheres não difere pela idade;\n",
        "\n",
        "H1: A variabilidade da pressão diastólica das mulheres difere pela idade;"
      ],
      "metadata": {
        "id": "5k_saykxsgx2"
      }
    },
    {
      "cell_type": "code",
      "source": [
        "# Média e Desvio Padrão dos Grupos\n",
        "\n",
        "[[reprodutiva['Pressao Diaastolica'].mean(), reprodutiva['Pressao Diaastolica'].std()],[Nreprodutiva['Pressao Diaastolica'].mean(),Nreprodutiva['Pressao Diaastolica'].std()]]"
      ],
      "metadata": {
        "id": "e-zru2V3sqtq"
      },
      "execution_count": null,
      "outputs": []
    },
    {
      "cell_type": "code",
      "source": [
        "# Teste de Barllet\n",
        "\n",
        "stats.bartlett(reprodutiva['Pressao Diaastolica'], Nreprodutiva['Pressao Diaastolica'])"
      ],
      "metadata": {
        "id": "VTiKI7pDs_qp"
      },
      "execution_count": null,
      "outputs": []
    },
    {
      "cell_type": "markdown",
      "source": [
        "#* Interpretação: A variância da pressão diastólica das mulheres com diabete mellitus e com idade superior ou igual à 35 anos é parecida com as que possuem menos de 35 anos (pvalue=0.41350813090680527), ao nível de 5% de signiicância."
      ],
      "metadata": {
        "id": "-H-kpru1tWns"
      }
    },
    {
      "cell_type": "markdown",
      "source": [
        "#* Realizando o Teste T Para Duas Amostras\n",
        "##* O teste T compara se a média de dois grupos são parecidas.\n",
        "* A opção alternative='less', verifica se a média do primeiro grupo é menor do que a do segundo grupo.\n",
        "* Na opção paired=False, é informado se é a mesma amostra comparada em dois momentos diferentes. Se false indica que são duas amostras diferentes, e se True é a mesma amostra observada em dois moment"
      ],
      "metadata": {
        "id": "nnDgNPa8tzda"
      }
    },
    {
      "cell_type": "markdown",
      "source": [
        "H0: A média da pressão diastólica das mulheres com diabete mellitus na idade reprodutiva é parecida com a das muljheres na idade não reprodutiva.\n",
        "\n",
        "H1: A média da pressão diastólica das mulheres com diabete mellitus na idade Não-Reprodutiva é maior."
      ],
      "metadata": {
        "id": "lMdPkHxty3Xp"
      }
    },
    {
      "cell_type": "code",
      "source": [
        "ttest(Nreprodutiva['Pressao Diaastolica'], reprodutiva['Pressao Diaastolica'],paired=False, alternative='greater')"
      ],
      "metadata": {
        "id": "k2BNpkDntykV"
      },
      "execution_count": null,
      "outputs": []
    },
    {
      "cell_type": "markdown",
      "source": [
        "#* Interpretação:\n",
        "As mulheres com diabete mellitus, maiores ou igual à 35 anos, possuem a pressão diastólica maior do que as que possuem menos de 35 anos (p-val=0,0000185), ao nível de 5% de significância. Através do gráfico boxplot e do gráfico de médias é possível observar a diferença existente."
      ],
      "metadata": {
        "id": "wgvJoC6MzXjt"
      }
    },
    {
      "cell_type": "code",
      "source": [
        "plt.figure(figsize = (8,4))\n",
        "\n",
        "sns.boxplot(x= 'CatIdade', y = 'Pressao Diaastolica', data = diabeteMellitus, hue='CatIdade', linewidth=4, palette=[\"m\", \"g\"])\n",
        "plt.xlabel('Idade')\n",
        "plt.ylabel('Pressão Diastólica')\n",
        "plt.title('Boxplot da Pressão Diastólica de Mulheres com Diabete Mellitus')\n",
        "\n",
        "plt.show()"
      ],
      "metadata": {
        "id": "Vv6RxZWuzWt0"
      },
      "execution_count": null,
      "outputs": []
    },
    {
      "cell_type": "code",
      "source": [
        "g = sns.catplot(data=diabeteMellitus, x='CatIdade', y=\"Pressao Diaastolica\", capsize=.2,  errorbar=\"se\",kind=\"point\", height=6, aspect=.85,)\n",
        "g.despine(left=True)\n",
        "g.set_titles(\"Gráfico de Média das Mulheres com Diabete Mellitus\")"
      ],
      "metadata": {
        "id": "mXdxf5c8zlFj"
      },
      "execution_count": null,
      "outputs": []
    }
  ]
}