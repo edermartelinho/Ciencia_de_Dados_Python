{
  "nbformat": 4,
  "nbformat_minor": 0,
  "metadata": {
    "colab": {
      "provenance": [],
      "authorship_tag": "ABX9TyNwZ209ryk5EElAKF+uRxPx",
      "include_colab_link": true
    },
    "kernelspec": {
      "name": "python3",
      "display_name": "Python 3"
    },
    "language_info": {
      "name": "python"
    }
  },
  "cells": [
    {
      "cell_type": "markdown",
      "metadata": {
        "id": "view-in-github",
        "colab_type": "text"
      },
      "source": [
        "<a href=\"https://colab.research.google.com/github/edermartelinho/Ciencia_de_Dados_Python/blob/main/Ci%C3%AAncia_de_Dados_An%C3%A1lise.ipynb\" target=\"_parent\"><img src=\"https://colab.research.google.com/assets/colab-badge.svg\" alt=\"Open In Colab\"/></a>"
      ]
    },
    {
      "cell_type": "markdown",
      "source": [
        "##* Importando as Bibliotecas para Análise\n"
      ],
      "metadata": {
        "id": "RpSXiJTk0eUZ"
      }
    },
    {
      "cell_type": "code",
      "execution_count": null,
      "metadata": {
        "id": "ERhy1YUJybN7"
      },
      "outputs": [],
      "source": [
        "!pip install --upgrade pip"
      ]
    },
    {
      "cell_type": "code",
      "source": [
        "!pip install -U scikit-learn"
      ],
      "metadata": {
        "id": "SG0Zd00G1F-G"
      },
      "execution_count": null,
      "outputs": []
    },
    {
      "cell_type": "code",
      "source": [
        "!pip install -U statsmodels"
      ],
      "metadata": {
        "id": "07jAXtZX1VXF"
      },
      "execution_count": null,
      "outputs": []
    },
    {
      "cell_type": "code",
      "source": [
        "!pip install -U torch"
      ],
      "metadata": {
        "id": "wZDy0tLR1VVn"
      },
      "execution_count": null,
      "outputs": []
    },
    {
      "cell_type": "code",
      "source": [
        "!pip install  cufflinks"
      ],
      "metadata": {
        "id": "XY3hcU581VTP"
      },
      "execution_count": null,
      "outputs": []
    },
    {
      "cell_type": "code",
      "source": [
        "!pip install -U keras==3.2.0"
      ],
      "metadata": {
        "id": "MU0GbQsf1VQH"
      },
      "execution_count": null,
      "outputs": []
    },
    {
      "cell_type": "code",
      "source": [
        "!pip install -U theano"
      ],
      "metadata": {
        "id": "wsdooWh81VL5"
      },
      "execution_count": null,
      "outputs": []
    },
    {
      "cell_type": "code",
      "source": [
        "!pip install pandas-flavor"
      ],
      "metadata": {
        "id": "B23cvQbz1VIx"
      },
      "execution_count": null,
      "outputs": []
    },
    {
      "cell_type": "code",
      "source": [
        "!pip install pingouin"
      ],
      "metadata": {
        "id": "w3U68ptl1VFA"
      },
      "execution_count": null,
      "outputs": []
    },
    {
      "cell_type": "code",
      "source": [
        "!pip install pandas-flavor==0.1.1"
      ],
      "metadata": {
        "id": "V76EiWkzClRV"
      },
      "execution_count": null,
      "outputs": []
    },
    {
      "cell_type": "code",
      "source": [
        "!pip install -U tensorflow"
      ],
      "metadata": {
        "id": "NzP5aWh1C4kw"
      },
      "execution_count": null,
      "outputs": []
    },
    {
      "cell_type": "code",
      "source": [
        "import math\n",
        "import numpy as np\n",
        "import numpy.linalg\n",
        "import numpy.linalg._umath_linalg\n",
        "#import numpy.linalg._umath_linalg._ilp64\n",
        "from numpy.testing import suppress_warnings\n",
        "#from numpy.testing import suppr\n",
        "import pandas as pd\n",
        "import pandas_flavor as pf\n",
        "import pingouin as pg\n",
        "import matplotlib.pyplot as plt\n",
        "import sklearn\n",
        "from scipy import constants\n",
        "from scipy.stats import norm\n",
        "import scipy.stats as sct\n",
        "from scipy import stats\n",
        "import seaborn as sns\n",
        "import plotly.express as px\n",
        "#import tensorflow as tf\n",
        "import io\n",
        "import requests"
      ],
      "metadata": {
        "id": "BEAL_H2W1VCh"
      },
      "execution_count": 12,
      "outputs": []
    },
    {
      "cell_type": "markdown",
      "source": [
        "##* Importando o Banco de Dados pela internet\n",
        "\n"
      ],
      "metadata": {
        "id": "VBLvAWTi4MGs"
      }
    },
    {
      "cell_type": "code",
      "source": [
        "from google.colab import drive\n",
        "drive.mount('/content/drive')"
      ],
      "metadata": {
        "colab": {
          "base_uri": "https://localhost:8080/"
        },
        "id": "slAtlsYM1U4X",
        "outputId": "df457d62-e7dc-4d8a-c358-32387200a319"
      },
      "execution_count": 13,
      "outputs": [
        {
          "output_type": "stream",
          "name": "stdout",
          "text": [
            "Drive already mounted at /content/drive; to attempt to forcibly remount, call drive.mount(\"/content/drive\", force_remount=True).\n"
          ]
        }
      ]
    },
    {
      "cell_type": "code",
      "source": [
        "url = \"/content/drive/MyDrive/Ciencia_Dados_git/ Diabetes.csv\""
      ],
      "metadata": {
        "id": "ATcNw7PL_KXK"
      },
      "execution_count": 14,
      "outputs": []
    },
    {
      "cell_type": "code",
      "source": [
        "datasetDiabets=pd.read_csv(url, sep=\";\", encoding='utf-8')"
      ],
      "metadata": {
        "id": "bSmHmbAy_zmo"
      },
      "execution_count": 15,
      "outputs": []
    },
    {
      "cell_type": "code",
      "source": [
        "datasetDiabets.head()"
      ],
      "metadata": {
        "id": "HR-zkWMQA8lK"
      },
      "execution_count": null,
      "outputs": []
    },
    {
      "cell_type": "code",
      "source": [
        "datasetDiabets.tail()"
      ],
      "metadata": {
        "id": "80GZMKl7A8jJ"
      },
      "execution_count": null,
      "outputs": []
    },
    {
      "cell_type": "code",
      "source": [
        "datasetDiabets"
      ],
      "metadata": {
        "id": "Cu8bbMp8A8eW"
      },
      "execution_count": null,
      "outputs": []
    },
    {
      "cell_type": "markdown",
      "source": [
        "##* Analise\n",
        "\n",
        "usando.head( ) para ver as 05 Primeiras linhas. Usando.tail( ) para ver as 5 ultimas linhas."
      ],
      "metadata": {
        "id": "2zuEo2-5Br06"
      }
    },
    {
      "cell_type": "code",
      "source": [
        "import math\n",
        "import pandas as pd\n",
        "import pandas_flavor as pf\n",
        "import numpy as np\n",
        "from numpy.testing import suppress_warnings\n",
        "import numpy.linalg\n",
        "import numpy.linalg._umath_linalg\n",
        "#import numpy.linalg._umath_linalg._ilp64\n",
        "import pingouin as pg\n",
        "import sklearn\n",
        "import scipy.stats as sct\n",
        "from scipy.stats import norm\n",
        "#from numpy.testing import suppr\n",
        "from scipy import constants\n",
        "from scipy import stats\n",
        "import matplotlib.pyplot as plt\n",
        "import seaborn as sns\n",
        "import plotly.express as px\n",
        "import tensorflow as tf"
      ],
      "metadata": {
        "id": "BpVd64mIA8ab"
      },
      "execution_count": 18,
      "outputs": []
    },
    {
      "cell_type": "markdown",
      "source": [
        "##* Importando o Banco do Drive"
      ],
      "metadata": {
        "id": "bEO1RT4AEGYI"
      }
    },
    {
      "cell_type": "code",
      "source": [
        "from google.colab import drive\n",
        "drive.mount('/content/drive')"
      ],
      "metadata": {
        "id": "ZxE0v7d0A8WZ"
      },
      "execution_count": 18,
      "outputs": []
    },
    {
      "cell_type": "markdown",
      "source": [
        "##* Chamando o banco"
      ],
      "metadata": {
        "id": "tG98r29CEaBS"
      }
    },
    {
      "cell_type": "code",
      "source": [
        "datasetDiabets=pd.read_csv(\"/content/drive/MyDrive/Ciencia_Dados_git/ Diabetes.csv\", sep=\";\", encoding='utf-8')"
      ],
      "metadata": {
        "id": "GYWsq7OnEo4B"
      },
      "execution_count": 19,
      "outputs": []
    },
    {
      "cell_type": "code",
      "source": [
        "datasetDiabets"
      ],
      "metadata": {
        "id": "NHkvFjYlFFH3"
      },
      "execution_count": null,
      "outputs": []
    },
    {
      "cell_type": "code",
      "source": [
        "datasetDiabets.shape"
      ],
      "metadata": {
        "colab": {
          "base_uri": "https://localhost:8080/"
        },
        "id": "TyEy6wnMFE_7",
        "outputId": "8757b463-88a4-4b7e-ae0a-0b7ddf323194"
      },
      "execution_count": 25,
      "outputs": [
        {
          "output_type": "execute_result",
          "data": {
            "text/plain": [
              "(768, 1)"
            ]
          },
          "metadata": {},
          "execution_count": 25
        }
      ]
    },
    {
      "cell_type": "code",
      "source": [
        "print(datasetDiabets.columns)"
      ],
      "metadata": {
        "colab": {
          "base_uri": "https://localhost:8080/"
        },
        "id": "sB20O4E-FEnH",
        "outputId": "0952c1f9-c496-4d8f-a7c6-f1128aadc52f"
      },
      "execution_count": 27,
      "outputs": [
        {
          "output_type": "stream",
          "name": "stdout",
          "text": [
            "Index([',Id Pacientes,N_gravidez,concentracao de glicose após duas horas,Pressao Diaastolica,Espessura da dobra cutânea (mm),Insulina 2 hrs ((mm U/ml),IMC,DiabetesPedigreeFunction,Age,Saudavel'], dtype='object')\n"
          ]
        }
      ]
    },
    {
      "cell_type": "markdown",
      "source": [
        "##* Analise\n",
        "\n",
        "O  atributo.shape  significa que a matriz tem 2 dimensões, onde a primeira dimensão tem 768 elementos e a segunda tem 1.\n",
        "\n",
        "A  Propriedade .columns retorna o rotulo de cada coluna no DataFrame"
      ],
      "metadata": {
        "id": "qAL8qNTJHNU-"
      }
    },
    {
      "cell_type": "markdown",
      "source": [
        "##* Imortando o banco d drive"
      ],
      "metadata": {
        "id": "UXMsMpmoXeAy"
      }
    },
    {
      "cell_type": "code",
      "source": [
        "from google.colab import drive\n",
        "drive.mount('/content/drive')"
      ],
      "metadata": {
        "id": "oBYtB4FxHMwl"
      },
      "execution_count": null,
      "outputs": []
    },
    {
      "cell_type": "code",
      "source": [
        "datasetDiabetsat=pd.read_csv('/content/drive/MyDrive/Ciencia_Dados_git/ DiabetesCat.csv')"
      ],
      "metadata": {
        "id": "yqsEIwyNW6qC"
      },
      "execution_count": 50,
      "outputs": []
    },
    {
      "cell_type": "code",
      "source": [
        "datasetDiabetsat.shape"
      ],
      "metadata": {
        "colab": {
          "base_uri": "https://localhost:8080/"
        },
        "id": "Wy29sjGLX00v",
        "outputId": "66e5f12c-dfa1-4b01-d6fe-68768e6adf44"
      },
      "execution_count": 51,
      "outputs": [
        {
          "output_type": "execute_result",
          "data": {
            "text/plain": [
              "(768, 16)"
            ]
          },
          "metadata": {},
          "execution_count": 51
        }
      ]
    },
    {
      "cell_type": "markdown",
      "source": [
        "##* Calculando  a frequenciae Frequencias\n",
        "\n",
        "#* Calculandona frequencia absoluta"
      ],
      "metadata": {
        "id": "8tkYepJ-X-DG"
      }
    },
    {
      "cell_type": "code",
      "source": [
        "absolutaIdade=datasetDiabets['CatIdade'].value_counts()\n",
        "absolutaIdade"
      ],
      "metadata": {
        "id": "IV84ZA2zZPPj"
      },
      "execution_count": null,
      "outputs": []
    },
    {
      "cell_type": "code",
      "source": [
        "absolutaIMC=datasetDiabets['IMC_OMS_CAT'].value_counts()\n",
        "absolutaIMC"
      ],
      "metadata": {
        "id": "O7cinzfLZZFv"
      },
      "execution_count": null,
      "outputs": []
    },
    {
      "cell_type": "code",
      "source": [
        "absolutaGlicose=datasetDiabets['GlicoseCat'].value_counts()\n",
        "absolutaGlicose"
      ],
      "metadata": {
        "id": "wp1uCwnnZZBD"
      },
      "execution_count": null,
      "outputs": []
    },
    {
      "cell_type": "code",
      "source": [
        "absolutaInsulina=datasetDiabets['InsulinaCat'].value_counts()\n",
        "absolutaInsulina"
      ],
      "metadata": {
        "id": "B8z6Qqs5ZY1V"
      },
      "execution_count": null,
      "outputs": []
    },
    {
      "cell_type": "markdown",
      "source": [
        "##* Calculando afrequencia Relativa"
      ],
      "metadata": {
        "id": "e6IV7cHLbvia"
      }
    },
    {
      "cell_type": "code",
      "source": [
        "relativaIdade=datasetDiabets['CatIdade'].value_counts(normalize = True)\n",
        "relativaIdade"
      ],
      "metadata": {
        "id": "BRt3GYtnb84I"
      },
      "execution_count": null,
      "outputs": []
    },
    {
      "cell_type": "code",
      "source": [
        "relativaIMC=datasetDiabets['IMC_OMS_CAT'].value_counts(normalize = True)\n",
        "relativaIMC"
      ],
      "metadata": {
        "id": "aFGKV1agcE9q"
      },
      "execution_count": null,
      "outputs": []
    },
    {
      "cell_type": "code",
      "source": [
        "elativaGlicose=datasetDiabets['GlicoseCat'].value_counts(normalize = True)\n",
        "relativaGlicose"
      ],
      "metadata": {
        "id": "mg9-44Y4cRWc"
      },
      "execution_count": null,
      "outputs": []
    },
    {
      "cell_type": "markdown",
      "source": [
        "##* Calculando  a Frequencia Percentual\n",
        "\n",
        "---\n",
        "\n"
      ],
      "metadata": {
        "id": "FTCnwJY9Z5Gn"
      }
    },
    {
      "cell_type": "code",
      "source": [
        "percentualIdade=round(datasetDiabets['CatIdade'].value_counts(normalize = True)*100,2)\n",
        "percentualIdade"
      ],
      "metadata": {
        "id": "maB12uuQZxlS"
      },
      "execution_count": null,
      "outputs": []
    },
    {
      "cell_type": "code",
      "source": [
        "relativaIMC=datasetDiabets['IMC_OMS_CAT'].value_counts(normalize = True)\n",
        "relativaIMC"
      ],
      "metadata": {
        "id": "ipbbKrw7ZYvI"
      },
      "execution_count": null,
      "outputs": []
    },
    {
      "cell_type": "code",
      "source": [
        "relativaGlicose=datasetDiabets['GlicoseCat'].value_counts(normalize = True)\n",
        "relativaGlicose"
      ],
      "metadata": {
        "id": "qCWPymJHbW8g"
      },
      "execution_count": null,
      "outputs": []
    },
    {
      "cell_type": "code",
      "source": [
        "relativaInsulina=datasetDiabets['InsulinaCat'].value_counts(normalize = True)\n",
        "relativaInsulina"
      ],
      "metadata": {
        "id": "CBR1uqXSbeme"
      },
      "execution_count": null,
      "outputs": []
    },
    {
      "cell_type": "markdown",
      "source": [
        "##* Formando uma Tabela\n",
        "\n",
        "pd.datafreme( ) - comando utlizado para criar Tabela"
      ],
      "metadata": {
        "id": "rD2Mq_AhcvCG"
      }
    },
    {
      "cell_type": "markdown",
      "source": [
        "##* Variaves Qualitativa"
      ],
      "metadata": {
        "id": "KTGUT9C3dTe7"
      }
    },
    {
      "cell_type": "code",
      "source": [
        "plt.figure(figsize = [10,6]) #(largura, altura)\n",
        "# Change 'Diabets' to the correct column name, which is likely 'Diabete'\n",
        "datasetDiabets['InsulinaCat'].value_counts().plot(kind = 'bar', color = ['blue', 'red'])\n",
        "#plt.title('Nível de Açucar no Sangue')\n",
        "plt.xlabel('Figura 1: Nível de Açucar no Sangue Após Duas Horas de Jejum')\n",
        "plt.ylabel('Frequência')\n",
        "plt.show()"
      ],
      "metadata": {
        "id": "xglotdz-deUH"
      },
      "execution_count": null,
      "outputs": []
    },
    {
      "cell_type": "code",
      "source": [
        "plt.figure(figsize = [15,10])\n",
        "\n",
        "#plt.subplot(coluna, linha, posição do gráfico)\n",
        "\n",
        "plt.subplot(2, 2, 1) #(n_linha, n_coluna, número do gráfico)\n",
        "# Changed 'Insulina' to 'InsulinaCat'\n",
        "datasetDiabets['InsulinaCat'].value_counts().plot(kind = 'bar', color = ['blue', 'red'])\n",
        "plt.title('Figura 1: Nível de Açucar no Sangue Após Duas Horas de Jejum')\n",
        "#plt.xlabel('Nível de Açucar no Sangue')\n",
        "plt.ylabel('Frequência')\n",
        "\n",
        "\n",
        "\n",
        "plt.subplot(2, 2, 2)\n",
        "datasetDiabets['IMC_OMS_CAT'].value_counts().plot(kind = 'pie')\n",
        "plt.title('Figura 2:  IMC das Mulheres Grávidas do Estudo')\n",
        "#plt.xlabel('Classe')\n",
        "plt.ylabel('Frequência')\n",
        "\n",
        "\n",
        "\n",
        "\n",
        "\n",
        "plt.subplot(2, 2, 3)\n",
        "datasetDiabets['CatIdade'].value_counts().plot(kind = 'pie', autopct = '%1.2f%%', explode = [0.1, 0.1])\n",
        "plt.title('Figura 3: Périodo Reprodutivo das Mulheres Grávidas do Estudo')\n",
        "#plt.xlabel('Sexo')\n",
        "plt.ylabel('Frequência')"
      ],
      "metadata": {
        "id": "LWO892JXhCEf"
      },
      "execution_count": null,
      "outputs": []
    },
    {
      "cell_type": "code",
      "source": [],
      "metadata": {
        "id": "z7vGclCph-bR"
      },
      "execution_count": null,
      "outputs": []
    },
    {
      "cell_type": "code",
      "source": [],
      "metadata": {
        "id": "i2GGvq9CiAZ_"
      },
      "execution_count": null,
      "outputs": []
    },
    {
      "cell_type": "markdown",
      "source": [
        "##* Grafico de Variáves Quantitativa"
      ],
      "metadata": {
        "id": "C1uqq1qWhfUX"
      }
    },
    {
      "cell_type": "code",
      "source": [
        "plt.figure(figsize = (16,17)) #(altura,largura)\n",
        "\n",
        "plt.subplot(3,2,1)\n",
        "plt.hist(data = datasetDiabets,x ='concentracao de glicose após duas horas', color='blue', histtype='bar', rwidth=2, edgecolor='black', density = True, alpha = .5)\n",
        "plt.title('Figura 5: Histograma da Concentracao de glicose Observada Após Duas Horas de Jejum')\n",
        "#Construção da Curva Normal\n",
        "#sns.kdeplot(datasetDiabets['concentracao de glicose após duas horas'].dropna(), color='black')\n",
        "\n",
        "\n",
        "plt.subplot(3,2,2)\n",
        "plt.hist(data = datasetDiabets, x ='Insulina 2 hrs ((mm U/ml)', color='blue', histtype='bar', rwidth=2, edgecolor='blue', density = True, alpha = .5)\n",
        "plt.title('Figura 6: Histograma da Insulina Observada Após Duas Horas de Jejum')\n",
        "#Construção da Curva Normal\n",
        "#sns.kdeplot(datasetDiabets['concentracao de glicose após duas horas'].dropna(), color='black')\n",
        "\n",
        "plt.subplot(3,2,3)\n",
        "plt.hist(data = datasetDiabets,x ='Pressao Diaastolica', color='blue', histtype='bar', rwidth=2, edgecolor='black', density = True, alpha = .5)\n",
        "plt.title('Figura 7: Histograma da Pressao Diastolica')\n",
        "#Construção da Curva Normal\n",
        "#sns.kdeplot(datasetDiabets['concentracao de glicose após duas horas'].dropna(), color='black')\n",
        "\n",
        "\n",
        "plt.subplot(3,2,4)\n",
        "plt.hist(data = datasetDiabets, x ='Espessura da dobra cutânea (mm)', color='blue', histtype='bar', rwidth=2, edgecolor='blue', density = True, alpha = .5)\n",
        "plt.title('Figura 8: Histograma da Espessura da dobra cutânea (mm)')\n",
        "#Construção da Curva Normal\n",
        "#sns.kdeplot(datasetDiabets['concentracao de glicose após duas horas'].dropna(), color='black')\n",
        "\n",
        "plt.subplot(3,2,5)\n",
        "plt.hist(data = datasetDiabets, x ='Age', color='blue', histtype='bar', rwidth=2, edgecolor='blue', density = True, alpha = .5)\n",
        "plt.title('Figura 9: Histograma da Idade')\n",
        "#Construção da Curva Normal\n",
        "#sns.kdeplot(datasetDiabets['concentracao de glicose após duas horas'].dropna(), color='black')\n",
        "\n",
        "plt.subplot(3,2,6)\n",
        "plt.hist(data = datasetDiabets, x ='N_gravidez', color='blue', histtype='bar', rwidth=2, edgecolor='blue', density = True, alpha = .5)\n",
        "plt.title('Figura 10: Histograma do Número de Gravidez')\n",
        "#Construção da Curva Normal\n",
        "#sns.kdeplot(datasetDiabets['concentracao de glicose após duas horas'].dropna(), color='black')\n",
        "\n",
        "\n",
        "plt.show()"
      ],
      "metadata": {
        "colab": {
          "base_uri": "https://localhost:8080/",
          "height": 1000
        },
        "id": "2kmRoskrh77Y",
        "outputId": "ccd048f1-44d1-4c46-f18a-0205e054a338"
      },
      "execution_count": 63,
      "outputs": [
        {
          "output_type": "display_data",
          "data": {
            "text/plain": [
              "<Figure size 1600x1700 with 6 Axes>"
            ],
            "image/png": "[encoded data removed]"
          },
          "metadata": {}
        }
      ]
    },
    {
      "cell_type": "markdown",
      "source": [
        "* Interpretação dos Resultados (Frequência e Gráficos): Das mulheres grávidas que participaram da pesquisa, 498 (64,84%) estão na idade reprodutiva e 270(35,16%) na não-reprodutiva. Através das Figuras 3 e 4, nos gráficos de pizza e barra, é possível observar esses resultados. Dessas mulheres, 25,65% possuem alta concentração de glicose no sangue e 74,35% estão dentro da faixa de normalidade. Também é possível observar esses reultados nos gráficos das Figuras 1 e 2. Na Figura 5 é possível observar o histograma da concentração de glicose no sangue, onde a maioria das mulheres possuem uma concentração abaixo de 140 mm/ml."
      ],
      "metadata": {
        "id": "ILkXh7iWieTA"
      }
    },
    {
      "cell_type": "markdown",
      "source": [
        "##* Estatística Descritiva"
      ],
      "metadata": {
        "id": "iePpFuFFimKq"
      }
    },
    {
      "cell_type": "code",
      "source": [
        "Conjunto1 = [10, 12,26,28,29]"
      ],
      "metadata": {
        "id": "muf4Jmmqik0g"
      },
      "execution_count": 64,
      "outputs": []
    },
    {
      "cell_type": "code",
      "source": [
        "Conjunto2 = [5000, 500, 600, 800, 1000, 50000]"
      ],
      "metadata": {
        "id": "cujOIzQyi6d9"
      },
      "execution_count": 65,
      "outputs": []
    },
    {
      "cell_type": "code",
      "source": [
        "[np.mean(Conjunto2),np.median(Conjunto2)]"
      ],
      "metadata": {
        "colab": {
          "base_uri": "https://localhost:8080/"
        },
        "id": "HXGqvoW9i6bY",
        "outputId": "bab2e839-1752-4088-ca31-26a3f177232b"
      },
      "execution_count": 66,
      "outputs": [
        {
          "output_type": "execute_result",
          "data": {
            "text/plain": [
              "[9650.0, 900.0]"
            ]
          },
          "metadata": {},
          "execution_count": 66
        }
      ]
    },
    {
      "cell_type": "markdown",
      "source": [
        "##* Medida de Posição\n",
        "\n",
        ".describe( )- utilizado calcular as medidad descritivas do dataset."
      ],
      "metadata": {
        "id": "I5Ib8rsrjNcz"
      }
    },
    {
      "cell_type": "code",
      "source": [
        "datasetDiabets.describe()"
      ],
      "metadata": {
        "id": "dl6JuXGci6ZD"
      },
      "execution_count": null,
      "outputs": []
    },
    {
      "cell_type": "markdown",
      "source": [
        "* A forma correta é conhecer o banco e classificar as variáveis antes de utilizar as funções"
      ],
      "metadata": {
        "id": "nJFng4Xzj38B"
      }
    },
    {
      "cell_type": "code",
      "source": [
        "variaveisQuantitativas=['N_gravidez','concentracao de glicose após duas horas', 'Pressao Diaastolica','Espessura da dobra cutânea (mm)', 'Insulina 2 hrs ((mm U/ml)','IMC','Age']"
      ],
      "metadata": {
        "id": "gJrBekKAi6WD"
      },
      "execution_count": 72,
      "outputs": []
    },
    {
      "cell_type": "code",
      "source": [
        "datasetDiabets[variaveisQuantitativas].describe()"
      ],
      "metadata": {
        "id": "nmKon9xxi6Tl"
      },
      "execution_count": null,
      "outputs": []
    },
    {
      "cell_type": "markdown",
      "source": [
        "##* Média (data.mean())"
      ],
      "metadata": {
        "id": "tHhW4kTVlIgk"
      }
    },
    {
      "cell_type": "code",
      "source": [
        "datasetDiabets['Espessura da dobra cutânea (mm)'].mean()"
      ],
      "metadata": {
        "id": "46e4NnAgi6Qj"
      },
      "execution_count": null,
      "outputs": []
    },
    {
      "cell_type": "code",
      "source": [
        "round(datasetDiabets[variaveisQuantitativas].median(),2)"
      ],
      "metadata": {
        "id": "963YkfMbldwd"
      },
      "execution_count": null,
      "outputs": []
    },
    {
      "cell_type": "code",
      "source": [
        "plt.hist(data = datasetDiabets,x ='Insulina 2 hrs ((mm U/ml)', color='blue', histtype='bar', rwidth=2, edgecolor='black', density = True, alpha = .5)\n",
        "plt.title('Figura 5: Histograma da Concentracao de glicose Observada Após Duas Horas de Jejum')"
      ],
      "metadata": {
        "colab": {
          "base_uri": "https://localhost:8080/",
          "height": 471
        },
        "id": "JSjYKaCAmCKc",
        "outputId": "0659481f-0576-4a98-8c13-379bdd483aa7"
      },
      "execution_count": 76,
      "outputs": [
        {
          "output_type": "execute_result",
          "data": {
            "text/plain": [
              "Text(0.5, 1.0, 'Figura 5: Histograma da Concentracao de glicose Observada Após Duas Horas de Jejum')"
            ]
          },
          "metadata": {},
          "execution_count": 76
        },
        {
          "output_type": "display_data",
          "data": {
            "text/plain": [
              "<Figure size 640x480 with 1 Axes>"
            ],
            "image/png": "[encoded data removed]"
          },
          "metadata": {}
        }
      ]
    },
    {
      "cell_type": "markdown",
      "source": [
        "##* Mediana (data.median())"
      ],
      "metadata": {
        "id": "J78xrrzemUho"
      }
    },
    {
      "cell_type": "code",
      "source": [
        "datasetDiabets['Espessura da dobra cutânea (mm)'].mean()"
      ],
      "metadata": {
        "colab": {
          "base_uri": "https://localhost:8080/"
        },
        "id": "p-ifpSHPmCFA",
        "outputId": "b3c9ed60-e319-4dc7-f285-d7adae55cd02"
      },
      "execution_count": 77,
      "outputs": [
        {
          "output_type": "execute_result",
          "data": {
            "text/plain": [
              "20.536458333333332"
            ]
          },
          "metadata": {},
          "execution_count": 77
        }
      ]
    },
    {
      "cell_type": "markdown",
      "source": [
        "##* Calculando a Média de Todas Variáveis Quantitativas"
      ],
      "metadata": {
        "id": "l0eEASNfmmAN"
      }
    },
    {
      "cell_type": "code",
      "source": [
        "round(datasetDiabets[variaveisQuantitativas].mean(),2)"
      ],
      "metadata": {
        "id": "Zz5OhGqfmCCc"
      },
      "execution_count": null,
      "outputs": []
    },
    {
      "cell_type": "code",
      "source": [
        "plt.hist(data = datasetDiabets,x ='Insulina 2 hrs ((mm U/ml)', color='blue', histtype='bar', rwidth=2, edgecolor='black', density = True, alpha = .5)\n",
        "plt.title('Figura 5: Histograma da Concentracao de glicose Observada Após Duas Horas de Jejum')"
      ],
      "metadata": {
        "colab": {
          "base_uri": "https://localhost:8080/",
          "height": 471
        },
        "id": "_oqsVu0tmB_O",
        "outputId": "8b6c30ac-2f23-4e13-ef47-b6c0a7bb8c1f"
      },
      "execution_count": 78,
      "outputs": [
        {
          "output_type": "execute_result",
          "data": {
            "text/plain": [
              "Text(0.5, 1.0, 'Figura 5: Histograma da Concentracao de glicose Observada Após Duas Horas de Jejum')"
            ]
          },
          "metadata": {},
          "execution_count": 78
        },
        {
          "output_type": "display_data",
          "data": {
            "text/plain": [
              "<Figure size 640x480 with 1 Axes>"
            ],
            "image/png": "[encoded data removed]"
          },
          "metadata": {}
        }
      ]
    },
    {
      "cell_type": "markdown",
      "source": [
        "##*  Mediana (data.median())"
      ],
      "metadata": {
        "id": "-KYMULqwnhqh"
      }
    },
    {
      "cell_type": "code",
      "source": [
        "datasetDiabets['Espessura da dobra cutânea (mm)'].value_counts()"
      ],
      "metadata": {
        "id": "ISy2esShmB8p"
      },
      "execution_count": null,
      "outputs": []
    },
    {
      "cell_type": "code",
      "source": [
        "datasetDiabets['Espessura da dobra cutânea (mm)'].value_counts()"
      ],
      "metadata": {
        "id": "4WsVPCbGmB5p"
      },
      "execution_count": null,
      "outputs": []
    },
    {
      "cell_type": "code",
      "source": [
        "datasetDiabets['Insulina 2 hrs ((mm U/ml)'].mode()"
      ],
      "metadata": {
        "id": "DwzkN5hkmB2y"
      },
      "execution_count": null,
      "outputs": []
    },
    {
      "cell_type": "code",
      "source": [
        "datasetDiabets['Insulina 2 hrs ((mm U/ml)'].value_counts()"
      ],
      "metadata": {
        "id": "ji4wF0F4mBz-"
      },
      "execution_count": null,
      "outputs": []
    },
    {
      "cell_type": "markdown",
      "source": [
        "## *Observe que pela frequência podemos observar qual é a categoria ou valor da variável que possui a maior frequência, poŕem podemos também calcular diretamente a moda pela função .mode()"
      ],
      "metadata": {
        "id": "aGc9bQLPoDcS"
      }
    },
    {
      "cell_type": "markdown",
      "source": [
        "## * Medidas de Dispersão\n",
        "\n",
        "#* Variancia (data.var())"
      ],
      "metadata": {
        "id": "IatigZCooW8I"
      }
    },
    {
      "cell_type": "code",
      "source": [
        "datasetDiabets[variaveisQuantitativas].var()"
      ],
      "metadata": {
        "id": "x1Lj0eGfmBq7"
      },
      "execution_count": null,
      "outputs": []
    },
    {
      "cell_type": "markdown",
      "source": [
        "##* Desvio-Padrão (data.std())"
      ],
      "metadata": {
        "id": "jm_dsj4oo3UR"
      }
    },
    {
      "cell_type": "code",
      "source": [
        "datasetDiabets[variaveisQuantitativas].std()"
      ],
      "metadata": {
        "id": "ealJ7vrYpUdi"
      },
      "execution_count": null,
      "outputs": []
    },
    {
      "cell_type": "code",
      "source": [
        "datasetDiabets['concentracao de glicose após duas horas'].mean()"
      ],
      "metadata": {
        "id": "tEY9TTfXpc71"
      },
      "execution_count": null,
      "outputs": []
    },
    {
      "cell_type": "code",
      "source": [
        "datasetDiabets['concentracao de glicose após duas horas'].std()"
      ],
      "metadata": {
        "id": "PEjpfTt0pcdS"
      },
      "execution_count": null,
      "outputs": []
    },
    {
      "cell_type": "markdown",
      "source": [
        "##* Interpretação: A média da concentração de glicose no sangue após duas horas de jejum em mulheres grávidas é de 120.89 mm/ml e varia 31.97 mm/ml entre uma mulher e outra."
      ],
      "metadata": {
        "id": "sFiK2dEqpuRl"
      }
    },
    {
      "cell_type": "code",
      "source": [
        "datasetDiabets[variaveisQuantitativas].mean()"
      ],
      "metadata": {
        "id": "LIalPs-Dp3yN"
      },
      "execution_count": null,
      "outputs": []
    },
    {
      "cell_type": "code",
      "source": [
        "datasetDiabets[variaveisQuantitativas].std()"
      ],
      "metadata": {
        "id": "3sxJX0wpp4lL"
      },
      "execution_count": null,
      "outputs": []
    },
    {
      "cell_type": "code",
      "source": [
        "datasetDiabets['concentracao de glicose após duas horas'].median(),[datasetDiabets['concentracao de glicose após duas horas'].mean(),datasetDiabets['concentracao de glicose após duas horas'].std()]"
      ],
      "metadata": {
        "id": "fWzuDRQ-p4h_"
      },
      "execution_count": null,
      "outputs": []
    },
    {
      "cell_type": "code",
      "source": [
        "datasetDiabets['Insulina 2 hrs ((mm U/ml)'].median(),[datasetDiabets['Insulina 2 hrs ((mm U/ml)'].mean(),datasetDiabets['Insulina 2 hrs ((mm U/ml)'].std()]"
      ],
      "metadata": {
        "id": "38MBEjoTp4eh"
      },
      "execution_count": null,
      "outputs": []
    },
    {
      "cell_type": "markdown",
      "source": [
        "##* Coeficiente de Variação (Desvio/Média)*100"
      ],
      "metadata": {
        "id": "qjPByQGTqh6e"
      }
    },
    {
      "cell_type": "code",
      "source": [
        "(datasetDiabets[variaveisQuantitativas].std()/datasetDiabets[variaveisQuantitativas].mean())*100"
      ],
      "metadata": {
        "colab": {
          "base_uri": "https://localhost:8080/",
          "height": 303
        },
        "id": "8P3lRx2Xp4ba",
        "outputId": "7648914a-3fb5-4ffe-b7b5-83b6f332f179"
      },
      "execution_count": 85,
      "outputs": [
        {
          "output_type": "execute_result",
          "data": {
            "text/plain": [
              "N_gravidez                                  87.634133\n",
              "concentracao de glicose após duas horas     26.446703\n",
              "Pressao Diaastolica                         28.009082\n",
              "Espessura da dobra cutânea (mm)             77.677549\n",
              "Insulina 2 hrs ((mm U/ml)                  144.416986\n",
              "IMC                                         24.643717\n",
              "Age                                         35.378816\n",
              "dtype: float64"
            ],
            "text/html": [
              "<div>\n",
              "<style scoped>\n",
              "    .dataframe tbody tr th:only-of-type {\n",
              "        vertical-align: middle;\n",
              "    }\n",
              "\n",
              "    .dataframe tbody tr th {\n",
              "        vertical-align: top;\n",
              "    }\n",
              "\n",
              "    .dataframe thead th {\n",
              "        text-align: right;\n",
              "    }\n",
              "</style>\n",
              "<table border=\"1\" class=\"dataframe\">\n",
              "  <thead>\n",
              "    <tr style=\"text-align: right;\">\n",
              "      <th></th>\n",
              "      <th>0</th>\n",
              "    </tr>\n",
              "  </thead>\n",
              "  <tbody>\n",
              "    <tr>\n",
              "      <th>N_gravidez</th>\n",
              "      <td>87.634133</td>\n",
              "    </tr>\n",
              "    <tr>\n",
              "      <th>concentracao de glicose após duas horas</th>\n",
              "      <td>26.446703</td>\n",
              "    </tr>\n",
              "    <tr>\n",
              "      <th>Pressao Diaastolica</th>\n",
              "      <td>28.009082</td>\n",
              "    </tr>\n",
              "    <tr>\n",
              "      <th>Espessura da dobra cutânea (mm)</th>\n",
              "      <td>77.677549</td>\n",
              "    </tr>\n",
              "    <tr>\n",
              "      <th>Insulina 2 hrs ((mm U/ml)</th>\n",
              "      <td>144.416986</td>\n",
              "    </tr>\n",
              "    <tr>\n",
              "      <th>IMC</th>\n",
              "      <td>24.643717</td>\n",
              "    </tr>\n",
              "    <tr>\n",
              "      <th>Age</th>\n",
              "      <td>35.378816</td>\n",
              "    </tr>\n",
              "  </tbody>\n",
              "</table>\n",
              "</div><br><label><b>dtype:</b> float64</label>"
            ]
          },
          "metadata": {},
          "execution_count": 85
        }
      ]
    }
  ]
}